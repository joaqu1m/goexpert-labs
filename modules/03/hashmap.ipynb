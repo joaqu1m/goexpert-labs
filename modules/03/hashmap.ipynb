{
 "cells": [
  {
   "cell_type": "code",
   "execution_count": 1,
   "id": "f5d60ce2",
   "metadata": {},
   "outputs": [],
   "source": [
    "import \"fmt\""
   ]
  },
  {
   "cell_type": "code",
   "execution_count": 12,
   "id": "f17406dc",
   "metadata": {},
   "outputs": [],
   "source": [
    "hashmap := make(map[string]int)\n",
    "hashmap2 := map[string]int{}"
   ]
  },
  {
   "cell_type": "markdown",
   "id": "c7e3daba",
   "metadata": {},
   "source": [
    "Diferenças entre os dois métodos de criação de hashmap:\n",
    "- `make()`: Pode ter um tamanho inicial especificado, para poupar esforço posterior de redimensionamento.\n",
    "- Com um literal: O tamanho inicial é sempre 0, mas pode facilitar a inserção de elementos no momento da criação.\n",
    "\n",
    "Apesar dessas pequenas diferenças, ambos fazem a exata mesma coisa."
   ]
  },
  {
   "cell_type": "code",
   "execution_count": 13,
   "id": "11188672",
   "metadata": {},
   "outputs": [
    {
     "name": "stdout",
     "output_type": "stream",
     "text": [
      "key2 2\n",
      "key3 3\n",
      "key 1\n"
     ]
    }
   ],
   "source": [
    "hashmap[\"key\"] = 1\n",
    "hashmap[\"key2\"] = 2\n",
    "hashmap[\"key3\"] = 3\n",
    "\n",
    "for key, value := range hashmap {\n",
    "\tfmt.Println(key, value)\n",
    "}"
   ]
  },
  {
   "cell_type": "code",
   "execution_count": 14,
   "id": "c5595d77",
   "metadata": {},
   "outputs": [
    {
     "name": "stdout",
     "output_type": "stream",
     "text": [
      "map[key:1 key3:3]\n"
     ]
    },
    {
     "data": {
      "text/plain": [
       "18 <nil>"
      ]
     },
     "execution_count": 14,
     "metadata": {},
     "output_type": "execute_result"
    }
   ],
   "source": [
    "delete(hashmap, \"key2\")\n",
    "fmt.Println(hashmap)"
   ]
  },
  {
   "cell_type": "markdown",
   "id": "4f19c232",
   "metadata": {},
   "source": [
    "O `delete()` muta diretamente o hashmap original."
   ]
  }
 ],
 "metadata": {
  "kernelspec": {
   "display_name": "Go",
   "language": "go",
   "name": "gophernotes"
  },
  "language_info": {
   "codemirror_mode": "",
   "file_extension": ".go",
   "mimetype": "",
   "name": "go",
   "nbconvert_exporter": "",
   "pygments_lexer": "",
   "version": "go1.11.4"
  }
 },
 "nbformat": 4,
 "nbformat_minor": 5
}
