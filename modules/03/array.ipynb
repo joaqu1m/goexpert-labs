{
 "cells": [
  {
   "cell_type": "code",
   "execution_count": 3,
   "id": "cf1ab6ff",
   "metadata": {},
   "outputs": [
    {
     "name": "stderr",
     "output_type": "stream",
     "text": [
      "[1 2 3]\n",
      "[1 2 3]\n"
     ]
    }
   ],
   "source": [
    "arr := [3]int{1, 2, 3}\n",
    "slc := []int{1, 2, 3}\n",
    "\n",
    "println(arr)\n",
    "println(slc)"
   ]
  },
  {
   "cell_type": "markdown",
   "id": "7f7f31c6",
   "metadata": {},
   "source": [
    "Por padrão, o Go tem apenas duas estruturas de \"coleção\" por índice, o array e o slice:"
   ]
  },
  {
   "cell_type": "markdown",
   "id": "84d475ab",
   "metadata": {},
   "source": [
    "#### Um slice em go funciona como um ArrayList em Java"
   ]
  },
  {
   "cell_type": "markdown",
   "id": "7865c07b",
   "metadata": {},
   "source": [
    "- Capacidade dinâmica, uma abstração do array\n",
    "- Sua capacidade pode ser inicializada com o valor que quiser, mas é bom que já seja iniciado com o valor pretendido\n",
    "- Sempre que atinge sua capacidade (valor que pode ser resgatado com a função `cap()`), ela é dobrada (criando um novo array na memória em uma diferente posição, e deletando o antigo)"
   ]
  },
  {
   "cell_type": "markdown",
   "id": "ebbc0669",
   "metadata": {},
   "source": [
    "Lembretes gerais:\n",
    "\n",
    "- Sempre que se cria um novo subset de um array, o que se faz é registrar um novo ponteiro para os mesmos endereços da memória. Caso queira uma cópia, use `copy(dest, src)`\n",
    "- Obviamente um array nunca diminui de tamanho, apenas aumenta (no caso da abstração do slice, que não aumenta literalmente, mas você entendeu)"
   ]
  },
  {
   "cell_type": "code",
   "execution_count": 4,
   "id": "f2a29c1c",
   "metadata": {},
   "outputs": [
    {
     "name": "stderr",
     "output_type": "stream",
     "text": [
      "[1 2 3]\n",
      "3\n",
      "3\n",
      "6\n",
      "4\n"
     ]
    }
   ],
   "source": [
    "slc := []int{1, 2, 3}\n",
    "\n",
    "println(slc)\n",
    "println(cap(slc))\n",
    "println(len(slc))\n",
    "\n",
    "slc = append(slc, 4)\n",
    "\n",
    "println(cap(slc))\n",
    "println(len(slc))"
   ]
  },
  {
   "cell_type": "markdown",
   "id": "3a5d20f5",
   "metadata": {},
   "source": [
    "Curiosidade: Os métodos `len()` e `cap()` também podem ser utilizados em ponteiros de arrays, mas não em ponteiros de slices."
   ]
  },
  {
   "cell_type": "code",
   "execution_count": 22,
   "id": "a973f03e",
   "metadata": {},
   "outputs": [
    {
     "name": "stderr",
     "output_type": "stream",
     "text": [
      "3\n",
      "3\n"
     ]
    }
   ],
   "source": [
    "println(len(&arr))\n",
    "println(cap(&arr))"
   ]
  },
  {
   "cell_type": "markdown",
   "id": "bd45655c",
   "metadata": {},
   "source": [
    "O único método de iteração de um array é o `for range`, que retorna o índice e o valor do elemento. O índice pode ser omitido, mas o valor não pode.\n",
    "- O `for range` não retorna o endereço de memória, mas sim o valor do elemento. Para pegar o endereço, use `&array[i]`\n",
    "- Ao utilizar `&v`, o valor retornado é o endereço de memória do valor presente apenas no momento da iteração, que é diferente do endereço de memória do valor que está na posição `i` do array."
   ]
  },
  {
   "cell_type": "code",
   "execution_count": 12,
   "id": "81ede5de",
   "metadata": {},
   "outputs": [
    {
     "name": "stderr",
     "output_type": "stream",
     "text": [
      "0 1\n",
      "0xc000034570\n",
      "0xc0002604e0\n",
      "1 2\n",
      "0xc000034570\n",
      "0xc0002604e8\n",
      "2 3\n",
      "0xc000034570\n",
      "0xc0002604f0\n",
      "3 4\n",
      "0xc000034570\n",
      "0xc0002604f8\n"
     ]
    }
   ],
   "source": [
    "for i, v := range slc {\n",
    "\tprintln(i, v)\n",
    "\tprintln(&v)\n",
    "\tprintln(&slc[i])\n",
    "}"
   ]
  }
 ],
 "metadata": {
  "kernelspec": {
   "display_name": "Go",
   "language": "go",
   "name": "gophernotes"
  },
  "language_info": {
   "codemirror_mode": "",
   "file_extension": ".go",
   "mimetype": "",
   "name": "go",
   "nbconvert_exporter": "",
   "pygments_lexer": "",
   "version": "go1.11.4"
  }
 },
 "nbformat": 4,
 "nbformat_minor": 5
}
