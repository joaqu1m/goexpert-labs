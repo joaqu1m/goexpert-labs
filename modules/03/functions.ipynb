{
 "cells": [
  {
   "cell_type": "code",
   "execution_count": 49,
   "id": "e4dc670b",
   "metadata": {},
   "outputs": [],
   "source": [
    "import (\n",
    "\t\"fmt\"\n",
    "\t\"net/http\"\n",
    "\t\"strings\"\n",
    ")"
   ]
  },
  {
   "cell_type": "code",
   "execution_count": null,
   "id": "0dd2e26f",
   "metadata": {},
   "outputs": [],
   "source": [
    "a := []int{1, 2, 3}\n",
    "\n",
    "func sum(a []int) int {\n",
    "\ttotal := 0\n",
    "\tfor _, v := range a {\n",
    "\t\ttotal += v\n",
    "\t}\n",
    "\treturn total\n",
    "}"
   ]
  },
  {
   "cell_type": "code",
   "execution_count": 4,
   "id": "1f5600f1",
   "metadata": {},
   "outputs": [
    {
     "name": "stdout",
     "output_type": "stream",
     "text": [
      "6\n"
     ]
    },
    {
     "data": {
      "text/plain": [
       "2 <nil>"
      ]
     },
     "execution_count": 4,
     "metadata": {},
     "output_type": "execute_result"
    }
   ],
   "source": [
    "fmt.Println(sum(a))"
   ]
  },
  {
   "cell_type": "markdown",
   "id": "75d53d88",
   "metadata": {},
   "source": [
    "Naturalmente, caso não seja feita uma cópia, funções utilizam a exata mesma instância do objeto, o que pode levar a resultados inesperados."
   ]
  },
  {
   "cell_type": "code",
   "execution_count": 14,
   "id": "19fc1fdf",
   "metadata": {},
   "outputs": [
    {
     "name": "stdout",
     "output_type": "stream",
     "text": [
      "0xc00024a9e0\n",
      "0xc00024a9e0\n"
     ]
    },
    {
     "data": {
      "text/plain": [
       "6"
      ]
     },
     "execution_count": 14,
     "metadata": {},
     "output_type": "execute_result"
    }
   ],
   "source": [
    "a := []int{1, 2, 3}\n",
    "\n",
    "func sum(a []int) int {\n",
    "\tfmt.Println(&a[0])\n",
    "\ttotal := 0\n",
    "\tfor _, v := range a {\n",
    "\t\ttotal += v\n",
    "\t}\n",
    "\treturn total\n",
    "}\n",
    "\n",
    "fmt.Println(&a[0])\n",
    "sum(a)"
   ]
  },
  {
   "cell_type": "markdown",
   "id": "5d33f774",
   "metadata": {},
   "source": [
    "Funções variádicas em go - mesma coisa que em qualquer outra lang, ou ao spread operator do js"
   ]
  },
  {
   "cell_type": "code",
   "execution_count": 27,
   "id": "11a870a4",
   "metadata": {},
   "outputs": [
    {
     "name": "stderr",
     "output_type": "stream",
     "text": [
      "a b c\n",
      "a b c\n"
     ]
    }
   ],
   "source": [
    "func mergeln(args ...string) string {\n",
    "\treturn strings.Join(args, \" \") + \"\\n\"\n",
    "}\n",
    "\n",
    "print(mergeln(\"a\", \"b\", \"c\"))\n",
    "print(mergeln(\"a\", \"b\", \"c\"))"
   ]
  },
  {
   "cell_type": "markdown",
   "id": "bc15dba5",
   "metadata": {},
   "source": [
    "Closure:\n",
    "- Função aninhada que tem acesso ao escopo da função pai\n",
    "- Pode ser uma opção mais rápida para criar uma função que não precisa ser reutilizada\n",
    "\n",
    "Se assemelha à funções lambda ou funções anônimas de outras linguagens"
   ]
  },
  {
   "cell_type": "code",
   "execution_count": 64,
   "id": "49229ade",
   "metadata": {},
   "outputs": [
    {
     "name": "stdout",
     "output_type": "stream",
     "text": [
      "5 duplicado: 10\n",
      "5 triplicado: 15\n",
      "10 duplicado: 20\n"
     ]
    },
    {
     "data": {
      "text/plain": [
       "17 <nil>"
      ]
     },
     "execution_count": 64,
     "metadata": {},
     "output_type": "execute_result"
    }
   ],
   "source": [
    "func multiplicadorPor(fator int) func(int) int {\n",
    "\treturn func(valor int) int {\n",
    "\t\treturn valor * fator\n",
    "\t}\n",
    "}\n",
    "\n",
    "duplicar := multiplicadorPor(2)\n",
    "triplicar := multiplicadorPor(3)\n",
    "\n",
    "fmt.Println(\"5 duplicado:\", duplicar(5))\n",
    "fmt.Println(\"5 triplicado:\", triplicar(5))\n",
    "fmt.Println(\"10 duplicado:\", duplicar(10))"
   ]
  }
 ],
 "metadata": {
  "kernelspec": {
   "display_name": "Go",
   "language": "go",
   "name": "gophernotes"
  },
  "language_info": {
   "codemirror_mode": "",
   "file_extension": ".go",
   "mimetype": "",
   "name": "go",
   "nbconvert_exporter": "",
   "pygments_lexer": "",
   "version": "go1.11.4"
  }
 },
 "nbformat": 4,
 "nbformat_minor": 5
}
